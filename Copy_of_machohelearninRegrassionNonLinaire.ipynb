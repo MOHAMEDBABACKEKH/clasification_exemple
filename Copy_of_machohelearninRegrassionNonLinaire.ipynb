{
  "nbformat": 4,
  "nbformat_minor": 0,
  "metadata": {
    "colab": {
      "name": "Copy of machohelearninRegrassionNonLinaire.ipynb",
      "provenance": [],
      "collapsed_sections": []
    },
    "kernelspec": {
      "name": "python3",
      "display_name": "Python 3"
    }
  },
  "cells": [
    {
      "cell_type": "code",
      "metadata": {
        "id": "RBPPgsjIiavm"
      },
      "source": [
        "import numpy as np\n",
        "import matplotlib.pyplot as plt\n",
        "from sklearn.datasets import make_regression"
      ],
      "execution_count": null,
      "outputs": []
    },
    {
      "cell_type": "code",
      "metadata": {
        "colab": {
          "base_uri": "https://localhost:8080/",
          "height": 282
        },
        "id": "eAwO-m1vjlSW",
        "outputId": "f1295557-f0d9-484b-fdfe-8ef0f298cca8"
      },
      "source": [
        "x,y =make_regression(n_samples=100,n_features=1,noise=10)\n",
        "y=y+abs(y/2)\n",
        "plt.scatter(x,y)"
      ],
      "execution_count": null,
      "outputs": [
        {
          "output_type": "execute_result",
          "data": {
            "text/plain": [
              "<matplotlib.collections.PathCollection at 0x7f58639a7e90>"
            ]
          },
          "metadata": {
            "tags": []
          },
          "execution_count": 176
        },
        {
          "output_type": "display_data",
          "data": {
            "image/png": "[encoded data removed]",
            "text/plain": [
              "<Figure size 432x288 with 1 Axes>"
            ]
          },
          "metadata": {
            "tags": [],
            "needs_background": "light"
          }
        }
      ]
    },
    {
      "cell_type": "code",
      "metadata": {
        "colab": {
          "base_uri": "https://localhost:8080/"
        },
        "id": "WtxqlBrPmXIa",
        "outputId": "d33089b0-73b3-4f50-9266-ec9705dc3e5b"
      },
      "source": [
        "print(x.shape)\n",
        "y=y.reshape(y.shape[0],1)\n",
        "print(y.shape)\n"
      ],
      "execution_count": null,
      "outputs": [
        {
          "output_type": "stream",
          "text": [
            "(100, 1)\n",
            "(100, 1)\n"
          ],
          "name": "stdout"
        }
      ]
    },
    {
      "cell_type": "code",
      "metadata": {
        "colab": {
          "base_uri": "https://localhost:8080/"
        },
        "id": "ovd6qxwapY3A",
        "outputId": "340635e7-11ab-4cfc-f0d9-dcd51264fd19"
      },
      "source": [
        "X=np.hstack((x,np.ones(x.shape)))\n",
        "X=np.hstack((x**2,X))\n",
        "print(X.shape)\n",
        "print(X[:10])"
      ],
      "execution_count": null,
      "outputs": [
        {
          "output_type": "stream",
          "text": [
            "(100, 3)\n",
            "[[ 1.28785092e-01  3.58866399e-01  1.00000000e+00]\n",
            " [ 3.62334737e+00 -1.90350922e+00  1.00000000e+00]\n",
            " [ 2.40000515e+00 -1.54919500e+00  1.00000000e+00]\n",
            " [ 8.85807228e-02 -2.97625138e-01  1.00000000e+00]\n",
            " [ 8.81540917e-02  2.96907547e-01  1.00000000e+00]\n",
            " [ 2.05176262e-03  4.52963864e-02  1.00000000e+00]\n",
            " [ 3.90326562e+00  1.97566840e+00  1.00000000e+00]\n",
            " [ 1.38913402e-01  3.72710882e-01  1.00000000e+00]\n",
            " [ 2.92770692e-01  5.41082888e-01  1.00000000e+00]\n",
            " [ 1.01868249e+00  1.00929802e+00  1.00000000e+00]]\n"
          ],
          "name": "stdout"
        }
      ]
    },
    {
      "cell_type": "code",
      "metadata": {
        "colab": {
          "base_uri": "https://localhost:8080/"
        },
        "id": "u2-IuF9uqLWV",
        "outputId": "ee968160-0a33-4809-9fe1-ac2107cc7b8b"
      },
      "source": [
        "theta=np.random.randn(3,1)\n",
        "theta"
      ],
      "execution_count": null,
      "outputs": [
        {
          "output_type": "execute_result",
          "data": {
            "text/plain": [
              "array([[ 0.18472884],\n",
              "       [-0.60297342],\n",
              "       [-0.20886042]])"
            ]
          },
          "metadata": {
            "tags": []
          },
          "execution_count": 172
        }
      ]
    },
    {
      "cell_type": "code",
      "metadata": {
        "colab": {
          "base_uri": "https://localhost:8080/",
          "height": 282
        },
        "id": "JTDQMntgqgq9",
        "outputId": "7478fab2-b14e-4cc1-87e5-86a79511ee0d"
      },
      "source": [
        "#model\n",
        "def model(X,theta) :\n",
        "    return X.dot(theta)\n",
        "plt.scatter(x[:,0],y)\n",
        "plt.scatter(x[:,0],model(X,theta),c='g')"
      ],
      "execution_count": null,
      "outputs": [
        {
          "output_type": "execute_result",
          "data": {
            "text/plain": [
              "<matplotlib.collections.PathCollection at 0x7f5863a52650>"
            ]
          },
          "metadata": {
            "tags": []
          },
          "execution_count": 173
        },
        {
          "output_type": "display_data",
          "data": {
            "image/png": "[encoded data removed]",
            "text/plain": [
              "<Figure size 432x288 with 1 Axes>"
            ]
          },
          "metadata": {
            "tags": [],
            "needs_background": "light"
          }
        }
      ]
    },
    {
      "cell_type": "code",
      "metadata": {
        "colab": {
          "base_uri": "https://localhost:8080/"
        },
        "id": "pShSSGySr8vE",
        "outputId": "07273274-5aa6-45e3-bafe-1c85fff3f1e3"
      },
      "source": [
        "#function_cout\n",
        "def function_cout(X,y,theta):\n",
        "    m=len(y)\n",
        "    return 1/(2*m) *np.sum(( model(X,theta) - y )**2)\n",
        "function_cout(X,y,theta)"
      ],
      "execution_count": null,
      "outputs": [
        {
          "output_type": "execute_result",
          "data": {
            "text/plain": [
              "1424.5212010064795"
            ]
          },
          "metadata": {
            "tags": []
          },
          "execution_count": 146
        }
      ]
    },
    {
      "cell_type": "code",
      "metadata": {
        "id": "WG-9UWQus8xK"
      },
      "source": [
        "#gradient\n",
        "def gradient(x,y,theta):\n",
        "    m=len(y)\n",
        "    return 1/m *x.T.dot(model(x,theta)-y)\n",
        "#gradient(X,y,theta)"
      ],
      "execution_count": null,
      "outputs": []
    },
    {
      "cell_type": "code",
      "metadata": {
        "id": "-PPrgfZctJY_"
      },
      "source": [
        "def gradient_decent(x,y,theta,learning_rate,n_iter):\n",
        "     cost_history=np.zeros(n_iter)\n",
        "     for i in range(0,n_iter):\n",
        "        theta = theta -learning_rate*gradient(x,y,theta)\n",
        "        cost_history[i]=function_cout(x,y,theta)\n",
        "     return theta,cost_history"
      ],
      "execution_count": null,
      "outputs": []
    },
    {
      "cell_type": "code",
      "metadata": {
        "colab": {
          "base_uri": "https://localhost:8080/"
        },
        "id": "4NCU7UlFvb2Q",
        "outputId": "056f17f7-e7ae-4d82-aef5-027be71723c5"
      },
      "source": [
        "theta_final,cost_history=gradient_decent(X,y,theta,learning_rate=0.01,n_iter=1000)\n",
        "theta_final"
      ],
      "execution_count": null,
      "outputs": [
        {
          "output_type": "execute_result",
          "data": {
            "text/plain": [
              "array([[17.53148545],\n",
              "       [61.35153038],\n",
              "       [15.31553802]])"
            ]
          },
          "metadata": {
            "tags": []
          },
          "execution_count": 161
        }
      ]
    },
    {
      "cell_type": "code",
      "metadata": {
        "colab": {
          "base_uri": "https://localhost:8080/",
          "height": 282
        },
        "id": "4-X_kzsJwI3z",
        "outputId": "67f622fd-6988-4fea-83b4-07e3939128d7"
      },
      "source": [
        "prediction=model(X,theta_final)\n",
        "\n",
        "plt.scatter(x[:,0],y)\n",
        "plt.scatter(x[:,0],prediction,c=\"y\")"
      ],
      "execution_count": null,
      "outputs": [
        {
          "output_type": "execute_result",
          "data": {
            "text/plain": [
              "<matplotlib.collections.PathCollection at 0x7f5863c2e850>"
            ]
          },
          "metadata": {
            "tags": []
          },
          "execution_count": 162
        },
        {
          "output_type": "display_data",
          "data": {
            "image/png": "[encoded data removed]",
            "text/plain": [
              "<Figure size 432x288 with 1 Axes>"
            ]
          },
          "metadata": {
            "tags": [],
            "needs_background": "light"
          }
        }
      ]
    },
    {
      "cell_type": "code",
      "metadata": {
        "colab": {
          "base_uri": "https://localhost:8080/",
          "height": 282
        },
        "id": "XcXnqkNZyDFc",
        "outputId": "14fe0d1b-1dfb-4fe1-8fb1-117ba220b2b0"
      },
      "source": [
        "plt.plot( range(1000),cost_history)"
      ],
      "execution_count": null,
      "outputs": [
        {
          "output_type": "execute_result",
          "data": {
            "text/plain": [
              "[<matplotlib.lines.Line2D at 0x7f5863b9a550>]"
            ]
          },
          "metadata": {
            "tags": []
          },
          "execution_count": 163
        },
        {
          "output_type": "display_data",
          "data": {
            "image/png": "[encoded data removed]",
            "text/plain": [
              "<Figure size 432x288 with 1 Axes>"
            ]
          },
          "metadata": {
            "tags": [],
            "needs_background": "light"
          }
        }
      ]
    },
    {
      "cell_type": "code",
      "metadata": {
        "id": "hnmJK2UG1KO1"
      },
      "source": [
        "def coef_determination(y,pred):\n",
        "    u=((y-pred)**2).sum()\n",
        "    v=((y-y.mean())**2).sum()\n",
        "    return 1-u/v"
      ],
      "execution_count": null,
      "outputs": []
    },
    {
      "cell_type": "code",
      "metadata": {
        "colab": {
          "base_uri": "https://localhost:8080/"
        },
        "id": "h_3vxEBe1xXf",
        "outputId": "c09d2b34-a722-4ff6-b626-aa468092952b"
      },
      "source": [
        "coef_determination(y,prediction)"
      ],
      "execution_count": null,
      "outputs": [
        {
          "output_type": "execute_result",
          "data": {
            "text/plain": [
              "0.9543028613785689"
            ]
          },
          "metadata": {
            "tags": []
          },
          "execution_count": 165
        }
      ]
    }
  ]
}