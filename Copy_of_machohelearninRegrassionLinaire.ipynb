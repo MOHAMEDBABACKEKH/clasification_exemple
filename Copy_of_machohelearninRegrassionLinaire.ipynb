{
  "nbformat": 4,
  "nbformat_minor": 0,
  "metadata": {
    "colab": {
      "name": "Copy of machohelearninRegrassionLinaire.ipynb",
      "provenance": [],
      "collapsed_sections": []
    },
    "kernelspec": {
      "name": "python3",
      "display_name": "Python 3"
    }
  },
  "cells": [
    {
      "cell_type": "code",
      "metadata": {
        "id": "RBPPgsjIiavm"
      },
      "source": [
        "import numpy as np\n",
        "import matplotlib.pyplot as plt\n",
        "from sklearn.datasets import make_regression \n"
      ],
      "execution_count": null,
      "outputs": []
    },
    {
      "cell_type": "code",
      "metadata": {
        "id": "eAwO-m1vjlSW"
      },
      "source": [
        "x,y =make_regression(n_samples=100,n_features=1,noise=10)"
      ],
      "execution_count": null,
      "outputs": []
    },
    {
      "cell_type": "code",
      "metadata": {
        "colab": {
          "base_uri": "https://localhost:8080/",
          "height": 282
        },
        "id": "au-rRPfokflD",
        "outputId": "15f79204-97e7-4393-818e-26bd53fab918"
      },
      "source": [
        "plt.scatter(x,y)\n"
      ],
      "execution_count": null,
      "outputs": [
        {
          "output_type": "execute_result",
          "data": {
            "text/plain": [
              "<matplotlib.collections.PathCollection at 0x7f878078ad90>"
            ]
          },
          "metadata": {
            "tags": []
          },
          "execution_count": 3
        },
        {
          "output_type": "display_data",
          "data": {
            "image/png": "[encoded data removed]",
            "text/plain": [
              "<Figure size 432x288 with 1 Axes>"
            ]
          },
          "metadata": {
            "tags": [],
            "needs_background": "light"
          }
        }
      ]
    },
    {
      "cell_type": "code",
      "metadata": {
        "colab": {
          "base_uri": "https://localhost:8080/"
        },
        "id": "WtxqlBrPmXIa",
        "outputId": "dbbbfb02-8f70-4c8f-a962-16e01c6670c1"
      },
      "source": [
        "print(x.shape)\n",
        "y=y.reshape(y.shape[0],1)\n",
        "print(y.shape)\n"
      ],
      "execution_count": null,
      "outputs": [
        {
          "output_type": "stream",
          "text": [
            "(100, 1)\n",
            "(100, 1)\n"
          ],
          "name": "stdout"
        }
      ]
    },
    {
      "cell_type": "code",
      "metadata": {
        "colab": {
          "base_uri": "https://localhost:8080/"
        },
        "id": "ovd6qxwapY3A",
        "outputId": "155d2248-715f-4c1d-d046-2d2852cdc050"
      },
      "source": [
        "X=np.hstack((x,np.ones(x.shape)))\n",
        "X.shape\n",
        "X"
      ],
      "execution_count": null,
      "outputs": [
        {
          "output_type": "execute_result",
          "data": {
            "text/plain": [
              "array([[ 1.90084689,  1.        ],\n",
              "       [-0.22690578,  1.        ],\n",
              "       [-0.38534996,  1.        ],\n",
              "       [-0.37144288,  1.        ],\n",
              "       [ 0.31642177,  1.        ],\n",
              "       [-2.54091445,  1.        ],\n",
              "       [-0.09524801,  1.        ],\n",
              "       [-1.32206983,  1.        ],\n",
              "       [-0.42058116,  1.        ],\n",
              "       [-1.00796431,  1.        ],\n",
              "       [-0.5703244 ,  1.        ],\n",
              "       [-0.40763967,  1.        ],\n",
              "       [ 1.3135485 ,  1.        ],\n",
              "       [-0.24142281,  1.        ],\n",
              "       [ 1.28307617,  1.        ],\n",
              "       [-0.85736105,  1.        ],\n",
              "       [ 0.14631741,  1.        ],\n",
              "       [ 0.87119038,  1.        ],\n",
              "       [ 0.29568178,  1.        ],\n",
              "       [-1.35956706,  1.        ],\n",
              "       [-0.71132386,  1.        ],\n",
              "       [-0.85072992,  1.        ],\n",
              "       [-0.726211  ,  1.        ],\n",
              "       [-0.76981884,  1.        ],\n",
              "       [-0.70381886,  1.        ],\n",
              "       [-0.03341304,  1.        ],\n",
              "       [ 0.50036145,  1.        ],\n",
              "       [-0.35102218,  1.        ],\n",
              "       [ 0.42851702,  1.        ],\n",
              "       [-0.24453291,  1.        ],\n",
              "       [ 0.35366446,  1.        ],\n",
              "       [-0.71346806,  1.        ],\n",
              "       [-0.19525774,  1.        ],\n",
              "       [-0.976081  ,  1.        ],\n",
              "       [ 0.06291051,  1.        ],\n",
              "       [ 1.07096917,  1.        ],\n",
              "       [ 0.88136875,  1.        ],\n",
              "       [ 1.40823401,  1.        ],\n",
              "       [-0.16061266,  1.        ],\n",
              "       [-1.01905786,  1.        ],\n",
              "       [ 0.92963439,  1.        ],\n",
              "       [-0.36681964,  1.        ],\n",
              "       [ 0.54926035,  1.        ],\n",
              "       [-0.09418981,  1.        ],\n",
              "       [-1.14520283,  1.        ],\n",
              "       [ 1.97151228,  1.        ],\n",
              "       [ 1.07263548,  1.        ],\n",
              "       [ 0.3630212 ,  1.        ],\n",
              "       [ 0.93594338,  1.        ],\n",
              "       [-2.02424973,  1.        ],\n",
              "       [ 0.63280317,  1.        ],\n",
              "       [-0.06776385,  1.        ],\n",
              "       [-0.86390069,  1.        ],\n",
              "       [ 0.18330408,  1.        ],\n",
              "       [ 1.53075848,  1.        ],\n",
              "       [-0.23387454,  1.        ],\n",
              "       [-0.63525951,  1.        ],\n",
              "       [-0.19054009,  1.        ],\n",
              "       [-0.49014144,  1.        ],\n",
              "       [-0.10870193,  1.        ],\n",
              "       [-0.54295762,  1.        ],\n",
              "       [-0.52058501,  1.        ],\n",
              "       [ 0.08895035,  1.        ],\n",
              "       [ 1.08507534,  1.        ],\n",
              "       [ 0.22400677,  1.        ],\n",
              "       [-1.31567148,  1.        ],\n",
              "       [ 0.37498677,  1.        ],\n",
              "       [-1.33974061,  1.        ],\n",
              "       [ 1.21770465,  1.        ],\n",
              "       [ 0.09753755,  1.        ],\n",
              "       [ 0.44771381,  1.        ],\n",
              "       [-1.54608595,  1.        ],\n",
              "       [-0.79154331,  1.        ],\n",
              "       [ 1.78716844,  1.        ],\n",
              "       [ 0.70029022,  1.        ],\n",
              "       [ 1.59278089,  1.        ],\n",
              "       [ 0.27367777,  1.        ],\n",
              "       [ 1.63063939,  1.        ],\n",
              "       [ 0.72729694,  1.        ],\n",
              "       [-0.96452873,  1.        ],\n",
              "       [-1.61643931,  1.        ],\n",
              "       [-0.19393463,  1.        ],\n",
              "       [-0.05329758,  1.        ],\n",
              "       [-0.39306475,  1.        ],\n",
              "       [-0.76424511,  1.        ],\n",
              "       [ 0.5055784 ,  1.        ],\n",
              "       [ 2.03493142,  1.        ],\n",
              "       [ 0.99411516,  1.        ],\n",
              "       [-0.41047185,  1.        ],\n",
              "       [-0.71742133,  1.        ],\n",
              "       [-1.31601157,  1.        ],\n",
              "       [-0.13950691,  1.        ],\n",
              "       [-2.27196291,  1.        ],\n",
              "       [-0.04656107,  1.        ],\n",
              "       [ 2.07581449,  1.        ],\n",
              "       [-0.66206942,  1.        ],\n",
              "       [-1.17709726,  1.        ],\n",
              "       [-1.45914602,  1.        ],\n",
              "       [-0.14517228,  1.        ],\n",
              "       [-0.68865619,  1.        ]])"
            ]
          },
          "metadata": {
            "tags": []
          },
          "execution_count": 5
        }
      ]
    },
    {
      "cell_type": "code",
      "metadata": {
        "colab": {
          "base_uri": "https://localhost:8080/"
        },
        "id": "u2-IuF9uqLWV",
        "outputId": "84632bd0-06b1-473f-c109-91f1ccfe355c"
      },
      "source": [
        "theta=np.random.randn(2,1)\n",
        "theta"
      ],
      "execution_count": null,
      "outputs": [
        {
          "output_type": "execute_result",
          "data": {
            "text/plain": [
              "array([[ 1.17480739],\n",
              "       [-1.45348681]])"
            ]
          },
          "metadata": {
            "tags": []
          },
          "execution_count": 6
        }
      ]
    },
    {
      "cell_type": "code",
      "metadata": {
        "colab": {
          "base_uri": "https://localhost:8080/",
          "height": 282
        },
        "id": "JTDQMntgqgq9",
        "outputId": "74f26e6a-8ce0-4017-de92-76fe7fc89ebd"
      },
      "source": [
        "#model\n",
        "def model(X,theta) :\n",
        "    return X.dot(theta)\n",
        "plt.scatter(x,y)\n",
        "plt.plot(x,model(X,theta),c='g')"
      ],
      "execution_count": null,
      "outputs": [
        {
          "output_type": "execute_result",
          "data": {
            "text/plain": [
              "[<matplotlib.lines.Line2D at 0x7f878027da10>]"
            ]
          },
          "metadata": {
            "tags": []
          },
          "execution_count": 7
        },
        {
          "output_type": "display_data",
          "data": {
            "image/png": "[encoded data removed]",
            "text/plain": [
              "<Figure size 432x288 with 1 Axes>"
            ]
          },
          "metadata": {
            "tags": [],
            "needs_background": "light"
          }
        }
      ]
    },
    {
      "cell_type": "code",
      "metadata": {
        "colab": {
          "base_uri": "https://localhost:8080/"
        },
        "id": "pShSSGySr8vE",
        "outputId": "ac1041a0-7b39-41b5-e6c6-647b89e4fdb2"
      },
      "source": [
        "#function_cout\n",
        "def function_cout(X,y,theta):\n",
        "    m=len(y)\n",
        "    return 1/(2*m) *np.sum(( model(X,theta) - y )**2)\n",
        "function_cout(X,y,theta)"
      ],
      "execution_count": null,
      "outputs": [
        {
          "output_type": "execute_result",
          "data": {
            "text/plain": [
              "3986.3326460618714"
            ]
          },
          "metadata": {
            "tags": []
          },
          "execution_count": 8
        }
      ]
    },
    {
      "cell_type": "code",
      "metadata": {
        "id": "WG-9UWQus8xK"
      },
      "source": [
        "#gradient\n",
        "def gradient(x,y,theta):\n",
        "    m=len(y)\n",
        "    return 1/m *x.T.dot(model(x,theta)-y)\n",
        "#gradient(X,y,theta)"
      ],
      "execution_count": null,
      "outputs": []
    },
    {
      "cell_type": "code",
      "metadata": {
        "id": "-PPrgfZctJY_"
      },
      "source": [
        "def gradient_decent(x,y,theta,learning_rate,n_iter):\n",
        "     cost_history=np.zeros(n_iter)\n",
        "     for i in range(0,n_iter):\n",
        "        theta = theta -learning_rate*gradient(x,y,theta)\n",
        "        cost_history[i]=function_cout(x,y,theta)\n",
        "     return theta,cost_history"
      ],
      "execution_count": null,
      "outputs": []
    },
    {
      "cell_type": "code",
      "metadata": {
        "colab": {
          "base_uri": "https://localhost:8080/"
        },
        "id": "4NCU7UlFvb2Q",
        "outputId": "7b2009cb-040c-44d6-8248-c3d34f29df2d"
      },
      "source": [
        "theta_final,cost_history=gradient_decent(X,y,theta,learning_rate=0.01,n_iter=1000)\n",
        "theta_final"
      ],
      "execution_count": null,
      "outputs": [
        {
          "output_type": "execute_result",
          "data": {
            "text/plain": [
              "array([[92.7524111 ],\n",
              "       [-0.99655164]])"
            ]
          },
          "metadata": {
            "tags": []
          },
          "execution_count": 12
        }
      ]
    },
    {
      "cell_type": "code",
      "metadata": {
        "colab": {
          "base_uri": "https://localhost:8080/",
          "height": 282
        },
        "id": "4-X_kzsJwI3z",
        "outputId": "b9538978-4e7c-4992-ed3e-6bb9b6651827"
      },
      "source": [
        "prediction=model(X,theta_final)\n",
        "\n",
        "plt.scatter(x,y)\n",
        "plt.plot(x,prediction,c=\"y\")"
      ],
      "execution_count": null,
      "outputs": [
        {
          "output_type": "execute_result",
          "data": {
            "text/plain": [
              "[<matplotlib.lines.Line2D at 0x7f878017b890>]"
            ]
          },
          "metadata": {
            "tags": []
          },
          "execution_count": 13
        },
        {
          "output_type": "display_data",
          "data": {
            "image/png": "[encoded data removed]",
            "text/plain": [
              "<Figure size 432x288 with 1 Axes>"
            ]
          },
          "metadata": {
            "tags": [],
            "needs_background": "light"
          }
        }
      ]
    },
    {
      "cell_type": "code",
      "metadata": {
        "colab": {
          "base_uri": "https://localhost:8080/",
          "height": 282
        },
        "id": "XcXnqkNZyDFc",
        "outputId": "abbeea55-8af8-409b-b89b-08cf5c2f0ae7"
      },
      "source": [
        "plt.plot( range(1000),cost_history)"
      ],
      "execution_count": null,
      "outputs": [
        {
          "output_type": "execute_result",
          "data": {
            "text/plain": [
              "[<matplotlib.lines.Line2D at 0x7f878074b3d0>]"
            ]
          },
          "metadata": {
            "tags": []
          },
          "execution_count": 14
        },
        {
          "output_type": "display_data",
          "data": {
            "image/png": "[encoded data removed]",
            "text/plain": [
              "<Figure size 432x288 with 1 Axes>"
            ]
          },
          "metadata": {
            "tags": [],
            "needs_background": "light"
          }
        }
      ]
    },
    {
      "cell_type": "code",
      "metadata": {
        "id": "hnmJK2UG1KO1"
      },
      "source": [
        "def coef_determination(y,pred):\n",
        "    u=((y-pred)**2).sum()\n",
        "    v=((y-y.mean())**2).sum()\n",
        "    return 1-u/v"
      ],
      "execution_count": null,
      "outputs": []
    },
    {
      "cell_type": "code",
      "metadata": {
        "colab": {
          "base_uri": "https://localhost:8080/"
        },
        "id": "h_3vxEBe1xXf",
        "outputId": "80598d1e-efce-45f7-e48e-bb86265cba99"
      },
      "source": [
        "coef_determination(y,prediction)"
      ],
      "execution_count": null,
      "outputs": [
        {
          "output_type": "execute_result",
          "data": {
            "text/plain": [
              "0.9848856828365792"
            ]
          },
          "metadata": {
            "tags": []
          },
          "execution_count": 17
        }
      ]
    }
  ]
}